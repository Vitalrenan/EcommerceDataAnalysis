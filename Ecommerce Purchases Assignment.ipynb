{
 "cells": [
  {
   "cell_type": "markdown",
   "metadata": {},
   "source": [
    "# Ecommerce Purchases Assignment"
   ]
  },
  {
   "cell_type": "code",
   "execution_count": 1,
   "metadata": {
    "collapsed": true
   },
   "outputs": [
    {
     "data": {
      "text/plain": [
       "'\\n    This is a data analysis report form Fake Amazon purchases data.\\n    \\n'"
      ]
     },
     "execution_count": 1,
     "metadata": {},
     "output_type": "execute_result"
    }
   ],
   "source": [
    "__author__ = \"Renan Luiz Andrade Vital\"\n",
    "__email__ = \"vitalrenan@icloud.com\"\n",
    "\n",
    "\n",
    "\"\"\"\n",
    "    This is a data analysis report form Fake Amazon purchases data assignment.\n",
    "    Created by Renan Vital, certified Python Programmer\n",
    "    Any questions please contact me by email, vitalrenan@icloud.com.\n",
    "    \n",
    "\"\"\""
   ]
  },
  {
   "cell_type": "code",
   "execution_count": 4,
   "metadata": {},
   "outputs": [
    {
     "data": {
      "text/html": [
       "<div>\n",
       "<style scoped>\n",
       "    .dataframe tbody tr th:only-of-type {\n",
       "        vertical-align: middle;\n",
       "    }\n",
       "\n",
       "    .dataframe tbody tr th {\n",
       "        vertical-align: top;\n",
       "    }\n",
       "\n",
       "    .dataframe thead th {\n",
       "        text-align: right;\n",
       "    }\n",
       "</style>\n",
       "<table border=\"1\" class=\"dataframe\">\n",
       "  <thead>\n",
       "    <tr style=\"text-align: right;\">\n",
       "      <th></th>\n",
       "      <th>Address</th>\n",
       "      <th>Lot</th>\n",
       "      <th>AM or PM</th>\n",
       "      <th>Browser Info</th>\n",
       "      <th>Company</th>\n",
       "      <th>Credit Card</th>\n",
       "      <th>CC Exp Date</th>\n",
       "      <th>CC Security Code</th>\n",
       "      <th>CC Provider</th>\n",
       "      <th>Email</th>\n",
       "      <th>Job</th>\n",
       "      <th>IP Address</th>\n",
       "      <th>Language</th>\n",
       "      <th>Purchase Price</th>\n",
       "    </tr>\n",
       "  </thead>\n",
       "  <tbody>\n",
       "    <tr>\n",
       "      <th>0</th>\n",
       "      <td>16629 Pace Camp Apt. 448\\nAlexisborough, NE 77...</td>\n",
       "      <td>46 in</td>\n",
       "      <td>PM</td>\n",
       "      <td>Opera/9.56.(X11; Linux x86_64; sl-SI) Presto/2...</td>\n",
       "      <td>Martinez-Herman</td>\n",
       "      <td>6011929061123406</td>\n",
       "      <td>02/20</td>\n",
       "      <td>900</td>\n",
       "      <td>JCB 16 digit</td>\n",
       "      <td>pdunlap@yahoo.com</td>\n",
       "      <td>Scientist, product/process development</td>\n",
       "      <td>149.146.147.205</td>\n",
       "      <td>el</td>\n",
       "      <td>98.14</td>\n",
       "    </tr>\n",
       "    <tr>\n",
       "      <th>1</th>\n",
       "      <td>9374 Jasmine Spurs Suite 508\\nSouth John, TN 8...</td>\n",
       "      <td>28 rn</td>\n",
       "      <td>PM</td>\n",
       "      <td>Opera/8.93.(Windows 98; Win 9x 4.90; en-US) Pr...</td>\n",
       "      <td>Fletcher, Richards and Whitaker</td>\n",
       "      <td>3337758169645356</td>\n",
       "      <td>11/18</td>\n",
       "      <td>561</td>\n",
       "      <td>Mastercard</td>\n",
       "      <td>anthony41@reed.com</td>\n",
       "      <td>Drilling engineer</td>\n",
       "      <td>15.160.41.51</td>\n",
       "      <td>fr</td>\n",
       "      <td>70.73</td>\n",
       "    </tr>\n",
       "  </tbody>\n",
       "</table>\n",
       "</div>"
      ],
      "text/plain": [
       "                                             Address    Lot AM or PM  \\\n",
       "0  16629 Pace Camp Apt. 448\\nAlexisborough, NE 77...  46 in       PM   \n",
       "1  9374 Jasmine Spurs Suite 508\\nSouth John, TN 8...  28 rn       PM   \n",
       "\n",
       "                                        Browser Info  \\\n",
       "0  Opera/9.56.(X11; Linux x86_64; sl-SI) Presto/2...   \n",
       "1  Opera/8.93.(Windows 98; Win 9x 4.90; en-US) Pr...   \n",
       "\n",
       "                           Company       Credit Card CC Exp Date  \\\n",
       "0                  Martinez-Herman  6011929061123406       02/20   \n",
       "1  Fletcher, Richards and Whitaker  3337758169645356       11/18   \n",
       "\n",
       "   CC Security Code   CC Provider               Email  \\\n",
       "0               900  JCB 16 digit   pdunlap@yahoo.com   \n",
       "1               561    Mastercard  anthony41@reed.com   \n",
       "\n",
       "                                      Job       IP Address Language  \\\n",
       "0  Scientist, product/process development  149.146.147.205       el   \n",
       "1                       Drilling engineer     15.160.41.51       fr   \n",
       "\n",
       "   Purchase Price  \n",
       "0           98.14  \n",
       "1           70.73  "
      ]
     },
     "execution_count": 4,
     "metadata": {},
     "output_type": "execute_result"
    }
   ],
   "source": [
    "#Importing Pandas libary \n",
    "import pandas as pd\n",
    "\n",
    "#Opening the CSV file with pandas\n",
    "df = pd.read_csv('Ecommerce Purchases')\n",
    "\n",
    "#DF analisys\n",
    "ecom.head(2)"
   ]
  },
  {
   "cell_type": "code",
   "execution_count": 2,
   "metadata": {
    "collapsed": true
   },
   "outputs": [
    {
     "name": "stdout",
     "output_type": "stream",
     "text": [
      "<class 'pandas.core.frame.DataFrame'>\n",
      "RangeIndex: 10000 entries, 0 to 9999\n",
      "Data columns (total 14 columns):\n",
      " #   Column            Non-Null Count  Dtype  \n",
      "---  ------            --------------  -----  \n",
      " 0   Address           10000 non-null  object \n",
      " 1   Lot               10000 non-null  object \n",
      " 2   AM or PM          10000 non-null  object \n",
      " 3   Browser Info      10000 non-null  object \n",
      " 4   Company           10000 non-null  object \n",
      " 5   Credit Card       10000 non-null  int64  \n",
      " 6   CC Exp Date       10000 non-null  object \n",
      " 7   CC Security Code  10000 non-null  int64  \n",
      " 8   CC Provider       10000 non-null  object \n",
      " 9   Email             10000 non-null  object \n",
      " 10  Job               10000 non-null  object \n",
      " 11  IP Address        10000 non-null  object \n",
      " 12  Language          10000 non-null  object \n",
      " 13  Purchase Price    10000 non-null  float64\n",
      "dtypes: float64(1), int64(2), object(11)\n",
      "memory usage: 1.1+ MB\n"
     ]
    }
   ],
   "source": [
    "#Info from DF\n",
    "ecom.info()"
   ]
  },
  {
   "cell_type": "markdown",
   "metadata": {},
   "source": [
    "**What is the average Purchase Price?**"
   ]
  },
  {
   "cell_type": "code",
   "execution_count": 15,
   "metadata": {},
   "outputs": [
    {
     "name": "stdout",
     "output_type": "stream",
     "text": [
      "The average Purchase Price is US$50.35\n"
     ]
    }
   ],
   "source": [
    "PurchasePriceMean = df['Purchase Price'].mean()\n",
    "print(\"The average Purchase Price is US${:.2f}\".format(PurchesePriceMean))"
   ]
  },
  {
   "cell_type": "markdown",
   "metadata": {},
   "source": [
    "**What were the highest and lowest purchase prices?**"
   ]
  },
  {
   "cell_type": "code",
   "execution_count": 17,
   "metadata": {},
   "outputs": [
    {
     "name": "stdout",
     "output_type": "stream",
     "text": [
      "The highest and lowest purchase prices are US$99.99 and US$0.00 respectively\n"
     ]
    }
   ],
   "source": [
    "MaxPurchasePrice = df['Purchase Price'].max()\n",
    "MinPurchasePrice = df['Purchase Price'].min()\n",
    "print(\"The highest and lowest purchase prices are US${:.2f} and US${:.2f} respectively\".format(MaxPurchasePrice, MinPurchasePrice))"
   ]
  },
  {
   "cell_type": "markdown",
   "metadata": {},
   "source": [
    "**How many people have English 'en' as their Language of choice on the website? **"
   ]
  },
  {
   "cell_type": "code",
   "execution_count": 30,
   "metadata": {},
   "outputs": [
    {
     "name": "stdout",
     "output_type": "stream",
     "text": [
      "There are 1098 english speakers on website\n"
     ]
    }
   ],
   "source": [
    "enUsers = sum(df['Language']=='en')\n",
    "print(\"There are {} english speakers on website\".format(enUsers))"
   ]
  },
  {
   "cell_type": "markdown",
   "metadata": {},
   "source": [
    "**How many people have the job title of \"Lawyer\"**"
   ]
  },
  {
   "cell_type": "code",
   "execution_count": 31,
   "metadata": {},
   "outputs": [
    {
     "name": "stdout",
     "output_type": "stream",
     "text": [
      "There are 30 lawers costumers\n"
     ]
    }
   ],
   "source": [
    "lawerUsers = sum(df['Job']=='Lawyer')\n",
    "print(\"There are {} lawers costumers\".format(lawerUsers))"
   ]
  },
  {
   "cell_type": "markdown",
   "metadata": {},
   "source": [
    "**How many people made the purchase during the AM and how many people made the purchase during PM ?**"
   ]
  },
  {
   "cell_type": "code",
   "execution_count": 41,
   "metadata": {},
   "outputs": [
    {
     "name": "stdout",
     "output_type": "stream",
     "text": [
      "There are 5068 AM Users and 4932 PM Users\n"
     ]
    }
   ],
   "source": [
    "amUsers , pmUsers = df['AM or PM'].value_counts()\n",
    "print(\"There are {} AM Users and {} PM Users\".format(amUsers , pmUsers))"
   ]
  },
  {
   "cell_type": "markdown",
   "metadata": {},
   "source": [
    "**What are the 5 most common Job Titles?**"
   ]
  },
  {
   "cell_type": "code",
   "execution_count": 54,
   "metadata": {
    "scrolled": true
   },
   "outputs": [
    {
     "name": "stdout",
     "output_type": "stream",
     "text": [
      "Interior and spatial designer        31\n",
      "Lawyer                               30\n",
      "Social researcher                    28\n",
      "Research officer, political party    27\n",
      "Designer, jewellery                  27\n",
      "Name: Job, dtype: int64\n"
     ]
    }
   ],
   "source": [
    "fiveMostCommonJobs = df[\"Job\"].value_counts()[:5]\n",
    "print(fiveMostCommonJobs)"
   ]
  },
  {
   "cell_type": "markdown",
   "metadata": {},
   "source": [
    "**Someone made a purchase that came from Lot: \"90 WT\" , what was the Purchase Price for this transaction?**"
   ]
  },
  {
   "cell_type": "code",
   "execution_count": 69,
   "metadata": {},
   "outputs": [
    {
     "name": "stdout",
     "output_type": "stream",
     "text": [
      "The purchase price from 90WT location User is US$75.1\n"
     ]
    }
   ],
   "source": [
    "purchase90WT = df[df['Lot']==\"90 WT\"]['Purchase Price'].item()\n",
    "print(\"The purchase price from 90WT location User is US${}\".format(purchase90WT))"
   ]
  },
  {
   "cell_type": "markdown",
   "metadata": {},
   "source": [
    "**What is the email of the person with the following Credit Card Number: 4926535242672853**"
   ]
  },
  {
   "cell_type": "code",
   "execution_count": 71,
   "metadata": {},
   "outputs": [
    {
     "name": "stdout",
     "output_type": "stream",
     "text": [
      "The user email is: bondellen@williams-garza.com\n"
     ]
    }
   ],
   "source": [
    "userEmail = df[df[\"Credit Card\"] == 4926535242672853]['Email'].item()\n",
    "print(\"The user email is: {}\".format(userEmail))"
   ]
  },
  {
   "cell_type": "markdown",
   "metadata": {},
   "source": [
    "**How many people have American Express as their Credit Card Provider *and made a purchase above $95?**"
   ]
  },
  {
   "cell_type": "code",
   "execution_count": 81,
   "metadata": {},
   "outputs": [
    {
     "name": "stdout",
     "output_type": "stream",
     "text": [
      "There are 39 American Express users that expend more than US$95,00\n"
     ]
    }
   ],
   "source": [
    "amExp95Above = sum((df[\"CC Provider\"]==\"American Express\")&(df['Purchase Price']>95))\n",
    "print(\"There are {} American Express users that expend more than US$95,00\".format(amExp95Above))"
   ]
  },
  {
   "cell_type": "markdown",
   "metadata": {},
   "source": [
    "**What are the top 5 most popular email providers/hosts (e.g. gmail.com, yahoo.com, etc...)**"
   ]
  },
  {
   "cell_type": "code",
   "execution_count": 99,
   "metadata": {},
   "outputs": [
    {
     "name": "stdout",
     "output_type": "stream",
     "text": [
      "hotmail     1638\n",
      "yahoo       1616\n",
      "gmail       1605\n",
      "smith         69\n",
      "williams      55\n",
      "Name: Email, dtype: int64\n"
     ]
    }
   ],
   "source": [
    "def emailProvider(email):\n",
    "    provider = email.split(\"@\")[1].split(\".\")[0]\n",
    "    return provider\n",
    "\n",
    "top5emailProviders = df[\"Email\"].apply(lambda email: emailProvider(email)).value_counts()[:5]\n",
    "print(top5emailProviders)"
   ]
  }
 ],
 "metadata": {
  "kernelspec": {
   "display_name": "Python 3",
   "language": "python",
   "name": "python3"
  },
  "language_info": {
   "codemirror_mode": {
    "name": "ipython",
    "version": 3
   },
   "file_extension": ".py",
   "mimetype": "text/x-python",
   "name": "python",
   "nbconvert_exporter": "python",
   "pygments_lexer": "ipython3",
   "version": "3.8.5"
  }
 },
 "nbformat": 4,
 "nbformat_minor": 4
}
